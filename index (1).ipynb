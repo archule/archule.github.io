{
  "nbformat": 4,
  "nbformat_minor": 0,
  "metadata": {
    "colab": {
      "name": "index.ipynb",
      "provenance": []
    },
    "kernelspec": {
      "name": "python3",
      "display_name": "Python 3"
    },
    "language_info": {
      "name": "python"
    }
  },
  "cells": [
    {
      "cell_type": "markdown",
      "source": [
        "Heart Failure/Disease Data Analysis"
      ],
      "metadata": {
        "id": "sml1yk14Fa_C"
      }
    },
    {
      "cell_type": "markdown",
      "source": [
        "Name: Kai Archuleta"
      ],
      "metadata": {
        "id": "eJrW9aUKGisX"
      }
    },
    {
      "cell_type": "markdown",
      "source": [
        "**Motivation**"
      ],
      "metadata": {
        "id": "Qtfjht7THoXf"
      }
    },
    {
      "cell_type": "markdown",
      "source": [
        "In this analysis, we will look at heart failure and heart disease. Accoring to a CDC webpage, https://www.cdc.gov/heartdisease/facts.htm, heart disease is a cause of about one quarter of the deaths in the United States each year. The webpage also indicates that heart disease costs the United States about 363 billion dollars each year from 2016 to 2017. In this analysis, we will be able to learn more about data science and investigate heart disease. We will go through the entire data analysis process and will investigate what is correlated with heart disease. The medical field is full of research studies looking at how factors such as cholesterol and blood pressure relate to heart disease. We will try to better understand this disease with research of our own in this tutorial. We will also try to build machine learning algorithms for heart disease detection. Overall, we will learn more about how to keep a healthy heart while also learning how to analyze data. Better understanding what leads to heart issues can lead to healthier lives and can save the United States (and countries across the globe) billions of dollars each year. "
      ],
      "metadata": {
        "id": "nirRCxXXHqyg"
      }
    },
    {
      "cell_type": "markdown",
      "source": [
        "**Data Collection**"
      ],
      "metadata": {
        "id": "eHTK-1dIF1GQ"
      }
    },
    {
      "cell_type": "markdown",
      "source": [
        "The first step of our analysis will be collecting data. Some health data is conviently stored on Kaggle. You can download the required csv file at the site: https://www.kaggle.com/fedesoriano/heart-failure-prediction."
      ],
      "metadata": {
        "id": "DmMVMCWWGcT_"
      }
    },
    {
      "cell_type": "markdown",
      "source": [
        "I imported the data into a pandas DataFrame below. I then printed out the dataframe which we can see below. The pandas library is a great resource for being able to store data in python. I would encourage you to look into the documentation on the pandas official website at this link: https://pandas.pydata.org/."
      ],
      "metadata": {
        "id": "419MB5xHJTPP"
      }
    },
    {
      "cell_type": "code",
      "source": [
        "import pandas as pd\n",
        "heart_data = pd.read_csv(\"heart.csv\")\n",
        "print(heart_data)"
      ],
      "metadata": {
        "colab": {
          "base_uri": "https://localhost:8080/"
        },
        "id": "Ek3_emMuF3lP",
        "outputId": "ffba404e-2f37-452d-a48b-bcdbefaf3ae5"
      },
      "execution_count": null,
      "outputs": [
        {
          "output_type": "stream",
          "name": "stdout",
          "text": [
            "     Age Sex ChestPainType  ...  Oldpeak  ST_Slope  HeartDisease\n",
            "0     40   M           ATA  ...      0.0        Up             0\n",
            "1     49   F           NAP  ...      1.0      Flat             1\n",
            "2     37   M           ATA  ...      0.0        Up             0\n",
            "3     48   F           ASY  ...      1.5      Flat             1\n",
            "4     54   M           NAP  ...      0.0        Up             0\n",
            "..   ...  ..           ...  ...      ...       ...           ...\n",
            "913   45   M            TA  ...      1.2      Flat             1\n",
            "914   68   M           ASY  ...      3.4      Flat             1\n",
            "915   57   M           ASY  ...      1.2      Flat             1\n",
            "916   57   F           ATA  ...      0.0      Flat             1\n",
            "917   38   M           NAP  ...      0.0        Up             0\n",
            "\n",
            "[918 rows x 12 columns]\n"
          ]
        }
      ]
    },
    {
      "cell_type": "markdown",
      "source": [
        "**Understanding the dataset**"
      ],
      "metadata": {
        "id": "TDSe2z2zKpz3"
      }
    },
    {
      "cell_type": "markdown",
      "source": [
        "I would encourage the reader to check out the original kaggle site listed above for more information about the data. It is important that you understand each variable in the data set and how they are measured. This will help you consider what analytical techniques to use as well as how to clean the data properly."
      ],
      "metadata": {
        "id": "6eiekEciKyJP"
      }
    },
    {
      "cell_type": "markdown",
      "source": [
        "**Data Cleaning**"
      ],
      "metadata": {
        "id": "pmk86dD3OyIe"
      }
    },
    {
      "cell_type": "markdown",
      "source": [
        "One important part of cleaning your data is removing missing data. Below, we will drop any rows with missing data. As we can see, no rows were removed, so it appears that we do not have any missing data. This is misleading. The data could have data entered that is filler data such as a 0 for a numerical variable. The computer would think it is a valid value, but as a human we know that a person can't have a blood pressure of 0 for example. Overall, we can see that we have 918 rows without \"missing data\" excluding \"filler data\". This is the same number of rows as in the original data frame. "
      ],
      "metadata": {
        "id": "bll_0Wwtu1nd"
      }
    },
    {
      "cell_type": "code",
      "source": [
        "import pandas as pd\n",
        "\n",
        "heart_data = pd.read_csv(\"heart.csv\")\n",
        "heart_data.dropna()"
      ],
      "metadata": {
        "colab": {
          "base_uri": "https://localhost:8080/",
          "height": 487
        },
        "id": "h9GJ58jOtWGc",
        "outputId": "314d5f82-7ddf-4b87-b53b-abe4281060f0"
      },
      "execution_count": null,
      "outputs": [
        {
          "output_type": "execute_result",
          "data": {
            "text/html": [
              "\n",
              "  <div id=\"df-a842d5d0-0fb2-4a46-873b-228345427828\">\n",
              "    <div class=\"colab-df-container\">\n",
              "      <div>\n",
              "<style scoped>\n",
              "    .dataframe tbody tr th:only-of-type {\n",
              "        vertical-align: middle;\n",
              "    }\n",
              "\n",
              "    .dataframe tbody tr th {\n",
              "        vertical-align: top;\n",
              "    }\n",
              "\n",
              "    .dataframe thead th {\n",
              "        text-align: right;\n",
              "    }\n",
              "</style>\n",
              "<table border=\"1\" class=\"dataframe\">\n",
              "  <thead>\n",
              "    <tr style=\"text-align: right;\">\n",
              "      <th></th>\n",
              "      <th>Age</th>\n",
              "      <th>Sex</th>\n",
              "      <th>ChestPainType</th>\n",
              "      <th>RestingBP</th>\n",
              "      <th>Cholesterol</th>\n",
              "      <th>FastingBS</th>\n",
              "      <th>RestingECG</th>\n",
              "      <th>MaxHR</th>\n",
              "      <th>ExerciseAngina</th>\n",
              "      <th>Oldpeak</th>\n",
              "      <th>ST_Slope</th>\n",
              "      <th>HeartDisease</th>\n",
              "    </tr>\n",
              "  </thead>\n",
              "  <tbody>\n",
              "    <tr>\n",
              "      <th>0</th>\n",
              "      <td>40</td>\n",
              "      <td>M</td>\n",
              "      <td>ATA</td>\n",
              "      <td>140</td>\n",
              "      <td>289</td>\n",
              "      <td>0</td>\n",
              "      <td>Normal</td>\n",
              "      <td>172</td>\n",
              "      <td>N</td>\n",
              "      <td>0.0</td>\n",
              "      <td>Up</td>\n",
              "      <td>0</td>\n",
              "    </tr>\n",
              "    <tr>\n",
              "      <th>1</th>\n",
              "      <td>49</td>\n",
              "      <td>F</td>\n",
              "      <td>NAP</td>\n",
              "      <td>160</td>\n",
              "      <td>180</td>\n",
              "      <td>0</td>\n",
              "      <td>Normal</td>\n",
              "      <td>156</td>\n",
              "      <td>N</td>\n",
              "      <td>1.0</td>\n",
              "      <td>Flat</td>\n",
              "      <td>1</td>\n",
              "    </tr>\n",
              "    <tr>\n",
              "      <th>2</th>\n",
              "      <td>37</td>\n",
              "      <td>M</td>\n",
              "      <td>ATA</td>\n",
              "      <td>130</td>\n",
              "      <td>283</td>\n",
              "      <td>0</td>\n",
              "      <td>ST</td>\n",
              "      <td>98</td>\n",
              "      <td>N</td>\n",
              "      <td>0.0</td>\n",
              "      <td>Up</td>\n",
              "      <td>0</td>\n",
              "    </tr>\n",
              "    <tr>\n",
              "      <th>3</th>\n",
              "      <td>48</td>\n",
              "      <td>F</td>\n",
              "      <td>ASY</td>\n",
              "      <td>138</td>\n",
              "      <td>214</td>\n",
              "      <td>0</td>\n",
              "      <td>Normal</td>\n",
              "      <td>108</td>\n",
              "      <td>Y</td>\n",
              "      <td>1.5</td>\n",
              "      <td>Flat</td>\n",
              "      <td>1</td>\n",
              "    </tr>\n",
              "    <tr>\n",
              "      <th>4</th>\n",
              "      <td>54</td>\n",
              "      <td>M</td>\n",
              "      <td>NAP</td>\n",
              "      <td>150</td>\n",
              "      <td>195</td>\n",
              "      <td>0</td>\n",
              "      <td>Normal</td>\n",
              "      <td>122</td>\n",
              "      <td>N</td>\n",
              "      <td>0.0</td>\n",
              "      <td>Up</td>\n",
              "      <td>0</td>\n",
              "    </tr>\n",
              "    <tr>\n",
              "      <th>...</th>\n",
              "      <td>...</td>\n",
              "      <td>...</td>\n",
              "      <td>...</td>\n",
              "      <td>...</td>\n",
              "      <td>...</td>\n",
              "      <td>...</td>\n",
              "      <td>...</td>\n",
              "      <td>...</td>\n",
              "      <td>...</td>\n",
              "      <td>...</td>\n",
              "      <td>...</td>\n",
              "      <td>...</td>\n",
              "    </tr>\n",
              "    <tr>\n",
              "      <th>913</th>\n",
              "      <td>45</td>\n",
              "      <td>M</td>\n",
              "      <td>TA</td>\n",
              "      <td>110</td>\n",
              "      <td>264</td>\n",
              "      <td>0</td>\n",
              "      <td>Normal</td>\n",
              "      <td>132</td>\n",
              "      <td>N</td>\n",
              "      <td>1.2</td>\n",
              "      <td>Flat</td>\n",
              "      <td>1</td>\n",
              "    </tr>\n",
              "    <tr>\n",
              "      <th>914</th>\n",
              "      <td>68</td>\n",
              "      <td>M</td>\n",
              "      <td>ASY</td>\n",
              "      <td>144</td>\n",
              "      <td>193</td>\n",
              "      <td>1</td>\n",
              "      <td>Normal</td>\n",
              "      <td>141</td>\n",
              "      <td>N</td>\n",
              "      <td>3.4</td>\n",
              "      <td>Flat</td>\n",
              "      <td>1</td>\n",
              "    </tr>\n",
              "    <tr>\n",
              "      <th>915</th>\n",
              "      <td>57</td>\n",
              "      <td>M</td>\n",
              "      <td>ASY</td>\n",
              "      <td>130</td>\n",
              "      <td>131</td>\n",
              "      <td>0</td>\n",
              "      <td>Normal</td>\n",
              "      <td>115</td>\n",
              "      <td>Y</td>\n",
              "      <td>1.2</td>\n",
              "      <td>Flat</td>\n",
              "      <td>1</td>\n",
              "    </tr>\n",
              "    <tr>\n",
              "      <th>916</th>\n",
              "      <td>57</td>\n",
              "      <td>F</td>\n",
              "      <td>ATA</td>\n",
              "      <td>130</td>\n",
              "      <td>236</td>\n",
              "      <td>0</td>\n",
              "      <td>LVH</td>\n",
              "      <td>174</td>\n",
              "      <td>N</td>\n",
              "      <td>0.0</td>\n",
              "      <td>Flat</td>\n",
              "      <td>1</td>\n",
              "    </tr>\n",
              "    <tr>\n",
              "      <th>917</th>\n",
              "      <td>38</td>\n",
              "      <td>M</td>\n",
              "      <td>NAP</td>\n",
              "      <td>138</td>\n",
              "      <td>175</td>\n",
              "      <td>0</td>\n",
              "      <td>Normal</td>\n",
              "      <td>173</td>\n",
              "      <td>N</td>\n",
              "      <td>0.0</td>\n",
              "      <td>Up</td>\n",
              "      <td>0</td>\n",
              "    </tr>\n",
              "  </tbody>\n",
              "</table>\n",
              "<p>918 rows × 12 columns</p>\n",
              "</div>\n",
              "      <button class=\"colab-df-convert\" onclick=\"convertToInteractive('df-a842d5d0-0fb2-4a46-873b-228345427828')\"\n",
              "              title=\"Convert this dataframe to an interactive table.\"\n",
              "              style=\"display:none;\">\n",
              "        \n",
              "  <svg xmlns=\"http://www.w3.org/2000/svg\" height=\"24px\"viewBox=\"0 0 24 24\"\n",
              "       width=\"24px\">\n",
              "    <path d=\"M0 0h24v24H0V0z\" fill=\"none\"/>\n",
              "    <path d=\"M18.56 5.44l.94 2.06.94-2.06 2.06-.94-2.06-.94-.94-2.06-.94 2.06-2.06.94zm-11 1L8.5 8.5l.94-2.06 2.06-.94-2.06-.94L8.5 2.5l-.94 2.06-2.06.94zm10 10l.94 2.06.94-2.06 2.06-.94-2.06-.94-.94-2.06-.94 2.06-2.06.94z\"/><path d=\"M17.41 7.96l-1.37-1.37c-.4-.4-.92-.59-1.43-.59-.52 0-1.04.2-1.43.59L10.3 9.45l-7.72 7.72c-.78.78-.78 2.05 0 2.83L4 21.41c.39.39.9.59 1.41.59.51 0 1.02-.2 1.41-.59l7.78-7.78 2.81-2.81c.8-.78.8-2.07 0-2.86zM5.41 20L4 18.59l7.72-7.72 1.47 1.35L5.41 20z\"/>\n",
              "  </svg>\n",
              "      </button>\n",
              "      \n",
              "  <style>\n",
              "    .colab-df-container {\n",
              "      display:flex;\n",
              "      flex-wrap:wrap;\n",
              "      gap: 12px;\n",
              "    }\n",
              "\n",
              "    .colab-df-convert {\n",
              "      background-color: #E8F0FE;\n",
              "      border: none;\n",
              "      border-radius: 50%;\n",
              "      cursor: pointer;\n",
              "      display: none;\n",
              "      fill: #1967D2;\n",
              "      height: 32px;\n",
              "      padding: 0 0 0 0;\n",
              "      width: 32px;\n",
              "    }\n",
              "\n",
              "    .colab-df-convert:hover {\n",
              "      background-color: #E2EBFA;\n",
              "      box-shadow: 0px 1px 2px rgba(60, 64, 67, 0.3), 0px 1px 3px 1px rgba(60, 64, 67, 0.15);\n",
              "      fill: #174EA6;\n",
              "    }\n",
              "\n",
              "    [theme=dark] .colab-df-convert {\n",
              "      background-color: #3B4455;\n",
              "      fill: #D2E3FC;\n",
              "    }\n",
              "\n",
              "    [theme=dark] .colab-df-convert:hover {\n",
              "      background-color: #434B5C;\n",
              "      box-shadow: 0px 1px 3px 1px rgba(0, 0, 0, 0.15);\n",
              "      filter: drop-shadow(0px 1px 2px rgba(0, 0, 0, 0.3));\n",
              "      fill: #FFFFFF;\n",
              "    }\n",
              "  </style>\n",
              "\n",
              "      <script>\n",
              "        const buttonEl =\n",
              "          document.querySelector('#df-a842d5d0-0fb2-4a46-873b-228345427828 button.colab-df-convert');\n",
              "        buttonEl.style.display =\n",
              "          google.colab.kernel.accessAllowed ? 'block' : 'none';\n",
              "\n",
              "        async function convertToInteractive(key) {\n",
              "          const element = document.querySelector('#df-a842d5d0-0fb2-4a46-873b-228345427828');\n",
              "          const dataTable =\n",
              "            await google.colab.kernel.invokeFunction('convertToInteractive',\n",
              "                                                     [key], {});\n",
              "          if (!dataTable) return;\n",
              "\n",
              "          const docLinkHtml = 'Like what you see? Visit the ' +\n",
              "            '<a target=\"_blank\" href=https://colab.research.google.com/notebooks/data_table.ipynb>data table notebook</a>'\n",
              "            + ' to learn more about interactive tables.';\n",
              "          element.innerHTML = '';\n",
              "          dataTable['output_type'] = 'display_data';\n",
              "          await google.colab.output.renderOutput(dataTable, element);\n",
              "          const docLink = document.createElement('div');\n",
              "          docLink.innerHTML = docLinkHtml;\n",
              "          element.appendChild(docLink);\n",
              "        }\n",
              "      </script>\n",
              "    </div>\n",
              "  </div>\n",
              "  "
            ],
            "text/plain": [
              "     Age Sex ChestPainType  ...  Oldpeak  ST_Slope  HeartDisease\n",
              "0     40   M           ATA  ...      0.0        Up             0\n",
              "1     49   F           NAP  ...      1.0      Flat             1\n",
              "2     37   M           ATA  ...      0.0        Up             0\n",
              "3     48   F           ASY  ...      1.5      Flat             1\n",
              "4     54   M           NAP  ...      0.0        Up             0\n",
              "..   ...  ..           ...  ...      ...       ...           ...\n",
              "913   45   M            TA  ...      1.2      Flat             1\n",
              "914   68   M           ASY  ...      3.4      Flat             1\n",
              "915   57   M           ASY  ...      1.2      Flat             1\n",
              "916   57   F           ATA  ...      0.0      Flat             1\n",
              "917   38   M           NAP  ...      0.0        Up             0\n",
              "\n",
              "[918 rows x 12 columns]"
            ]
          },
          "metadata": {},
          "execution_count": 30
        }
      ]
    },
    {
      "cell_type": "markdown",
      "source": [
        "After looking through our variables, it is clear that a person cannot have a cholesterol of 0 because the human body requires cholesterol. A zero value could be used to fill in for missing data. Let’s remove any rows with a cholesterol of 0. We can see that the number of rows goes down from 918 rows to 746 rows. We will need to remove these rows when we want to use cholesterol in our analysis. There are some more advanced techniques that are quite interesting, such as assigning the missing data an estimate. Here is a resource to learn more about dealing with missing data: https://liberalarts.utexas.edu/prc/_files/cs/Missing-Data.pdf. "
      ],
      "metadata": {
        "id": "jebJzasTA-k5"
      }
    },
    {
      "cell_type": "code",
      "source": [
        "import pandas as pd\n",
        "\n",
        "# read in data into a dataframe\n",
        "df = pd.read_csv(\"heart.csv\")\n",
        "\n",
        "#remove rows where the cholesterol levels are 0\n",
        "df= df[df['Cholesterol'] != 0]\n",
        "\n",
        "print(df)"
      ],
      "metadata": {
        "colab": {
          "base_uri": "https://localhost:8080/"
        },
        "id": "ykIpkWn1BB9Y",
        "outputId": "350ff1ff-68e4-44e6-9687-012bd55707e3"
      },
      "execution_count": 103,
      "outputs": [
        {
          "output_type": "stream",
          "name": "stdout",
          "text": [
            "     Age Sex ChestPainType  ...  Oldpeak  ST_Slope  HeartDisease\n",
            "0     40   M           ATA  ...      0.0        Up             0\n",
            "1     49   F           NAP  ...      1.0      Flat             1\n",
            "2     37   M           ATA  ...      0.0        Up             0\n",
            "3     48   F           ASY  ...      1.5      Flat             1\n",
            "4     54   M           NAP  ...      0.0        Up             0\n",
            "..   ...  ..           ...  ...      ...       ...           ...\n",
            "913   45   M            TA  ...      1.2      Flat             1\n",
            "914   68   M           ASY  ...      3.4      Flat             1\n",
            "915   57   M           ASY  ...      1.2      Flat             1\n",
            "916   57   F           ATA  ...      0.0      Flat             1\n",
            "917   38   M           NAP  ...      0.0        Up             0\n",
            "\n",
            "[746 rows x 12 columns]\n"
          ]
        }
      ]
    },
    {
      "cell_type": "markdown",
      "source": [
        "After looking through our variable, it is clear that a person cannot have a blood pressure of 0. A zero value could be used as a filler value for missing data because the human body requires blood pressure for life. Let’s remove any rows with a blood pressure of 0. We can see that the number of rows goes down from 918 rows to 917 rows. We will need to remove this row when we want to use blood pressure in our analysis."
      ],
      "metadata": {
        "id": "Yw4IaxRZHAyi"
      }
    },
    {
      "cell_type": "code",
      "source": [
        "import pandas as pd\n",
        "\n",
        "df = pd.read_csv(\"heart.csv\")\n",
        "\n",
        "#remove rows with a blood pressure of 0\n",
        "df = df[df['RestingBP'] != 0]\n",
        "\n",
        "print(df)"
      ],
      "metadata": {
        "colab": {
          "base_uri": "https://localhost:8080/"
        },
        "id": "MZMkC8a6D9bh",
        "outputId": "65b8b4d9-34fc-4b7d-d9da-86adf0ae8bbd"
      },
      "execution_count": 104,
      "outputs": [
        {
          "output_type": "stream",
          "name": "stdout",
          "text": [
            "     Age Sex ChestPainType  ...  Oldpeak  ST_Slope  HeartDisease\n",
            "0     40   M           ATA  ...      0.0        Up             0\n",
            "1     49   F           NAP  ...      1.0      Flat             1\n",
            "2     37   M           ATA  ...      0.0        Up             0\n",
            "3     48   F           ASY  ...      1.5      Flat             1\n",
            "4     54   M           NAP  ...      0.0        Up             0\n",
            "..   ...  ..           ...  ...      ...       ...           ...\n",
            "913   45   M            TA  ...      1.2      Flat             1\n",
            "914   68   M           ASY  ...      3.4      Flat             1\n",
            "915   57   M           ASY  ...      1.2      Flat             1\n",
            "916   57   F           ATA  ...      0.0      Flat             1\n",
            "917   38   M           NAP  ...      0.0        Up             0\n",
            "\n",
            "[917 rows x 12 columns]\n"
          ]
        }
      ]
    },
    {
      "cell_type": "markdown",
      "source": [
        "Our categorical data is labeled in such a way that is is very easy to read for a human. Sadly, this is not the case for the computer for some of the algorithms we wish to run. I will change our categorical values to numbers in certain places for our analysis. Below, you can see this being done."
      ],
      "metadata": {
        "id": "cc1yY2zxvrfc"
      }
    },
    {
      "cell_type": "code",
      "source": [
        "from sklearn.preprocessing import LabelEncoder\n",
        "import pandas as pd\n",
        "\n",
        "df = pd.read_csv(\"heart.csv\")\n",
        "\n",
        "# create encoders to make labels numeric\n",
        "ChestPainType = LabelEncoder()\n",
        "RestingECG = LabelEncoder()\n",
        "ExcerciseAngina = LabelEncoder()\n",
        "ST_Slope = LabelEncoder()\n",
        "Sex = LabelEncoder()\n",
        "\n",
        "# use encoders to make labels numeric\n",
        "df['ChestPainType'] = ChestPainType.fit_transform(df['ChestPainType'])\n",
        "df['RestingECG'] = ChestPainType.fit_transform(df['RestingECG'])\n",
        "df['ExerciseAngina'] = ChestPainType.fit_transform(df['ExerciseAngina'])\n",
        "df['ST_Slope'] = ChestPainType.fit_transform(df['ST_Slope'])\n",
        "df['Sex'] = ChestPainType.fit_transform(df['Sex'])\n",
        "\n",
        "print(df)"
      ],
      "metadata": {
        "colab": {
          "base_uri": "https://localhost:8080/"
        },
        "id": "r309QcoRXwgK",
        "outputId": "f2857800-d882-41d6-b7b2-7dfdb1e6a9fb"
      },
      "execution_count": 105,
      "outputs": [
        {
          "output_type": "stream",
          "name": "stdout",
          "text": [
            "     Age  Sex  ChestPainType  ...  Oldpeak  ST_Slope  HeartDisease\n",
            "0     40    1              1  ...      0.0         2             0\n",
            "1     49    0              2  ...      1.0         1             1\n",
            "2     37    1              1  ...      0.0         2             0\n",
            "3     48    0              0  ...      1.5         1             1\n",
            "4     54    1              2  ...      0.0         2             0\n",
            "..   ...  ...            ...  ...      ...       ...           ...\n",
            "913   45    1              3  ...      1.2         1             1\n",
            "914   68    1              0  ...      3.4         1             1\n",
            "915   57    1              0  ...      1.2         1             1\n",
            "916   57    0              1  ...      0.0         1             1\n",
            "917   38    1              2  ...      0.0         2             0\n",
            "\n",
            "[918 rows x 12 columns]\n"
          ]
        }
      ]
    },
    {
      "cell_type": "markdown",
      "source": [
        "**Data Cleaning: Summary**"
      ],
      "metadata": {
        "id": "JsDIWfYvHWsv"
      }
    },
    {
      "cell_type": "markdown",
      "source": [
        "Overall, we see that there is missing data for cholesterol and blood pressure where the entries are 0. We will need to remove these rows when working with these two variables. We will also want to convert our labels to numerical values for some of our algorithms such as our machine learning algorithms."
      ],
      "metadata": {
        "id": "onzjsntRHZ76"
      }
    },
    {
      "cell_type": "markdown",
      "source": [
        "**Age vs. Heart Disease:**"
      ],
      "metadata": {
        "id": "0hGmoeKtOg2e"
      }
    },
    {
      "cell_type": "markdown",
      "source": [
        "First, we will find the link between age and heart disease. Common knowledge tells us that heart disease is asscociated with older age. We will also find the mean using numpy. numpy is a very popular python library for scientific computation. It is built under the hood in C, allowing it to make computations much faster than Python would. I would recommend learning about numpy at this webpage: https://numpy.org/. "
      ],
      "metadata": {
        "id": "-WhuA6UIOlnH"
      }
    },
    {
      "cell_type": "markdown",
      "source": [
        "We can see that the average age of people with heart disease is 55.9 and the average person without heart disease is 50.6. This follows common knowledge that older age increases your risk of heart disease."
      ],
      "metadata": {
        "id": "5SbHKf2Xrfi9"
      }
    },
    {
      "cell_type": "code",
      "source": [
        "import pandas as pd\n",
        "import numpy as np\n",
        "\n",
        "df = pd.read_csv(\"heart.csv\")\n",
        "\n",
        "# get each row where the individual has heart disease\n",
        "df = df[df['HeartDisease'] == 1]\n",
        "\n",
        "df.iloc[:,0:1].apply(np.mean)"
      ],
      "metadata": {
        "colab": {
          "base_uri": "https://localhost:8080/"
        },
        "id": "p9aqcMPWgysR",
        "outputId": "dbb0e9df-aa6e-43a2-d0e6-55c9d36d21ca"
      },
      "execution_count": 41,
      "outputs": [
        {
          "output_type": "execute_result",
          "data": {
            "text/plain": [
              "Age    55.899606\n",
              "dtype: float64"
            ]
          },
          "metadata": {},
          "execution_count": 41
        }
      ]
    },
    {
      "cell_type": "code",
      "source": [
        "import pandas as pd\n",
        "import numpy as np\n",
        "\n",
        "df = pd.read_csv(\"heart.csv\")\n",
        "\n",
        "# get each row where the individual does not have heart disease\n",
        "df = df[df['HeartDisease'] == 0]\n",
        "\n",
        "df.iloc[:,0:1].apply(np.mean)"
      ],
      "metadata": {
        "colab": {
          "base_uri": "https://localhost:8080/"
        },
        "id": "lozhtKXRraB3",
        "outputId": "6fe2cff2-9d79-4eb3-b8ad-d0eb2488e4a4"
      },
      "execution_count": 44,
      "outputs": [
        {
          "output_type": "execute_result",
          "data": {
            "text/plain": [
              "Age    50.55122\n",
              "dtype: float64"
            ]
          },
          "metadata": {},
          "execution_count": 44
        }
      ]
    },
    {
      "cell_type": "markdown",
      "source": [
        "Now, lets look at the prevalence of heart disease throughout age. Let's break down our ages into four groups: under 40 (youngest), 40-49 (younger), 50 - 59 (older), 60+ (oldest). We will get the summary statistics and then place them into a bar chart. We are going to use the matplotlib library. This is a fantastic resource for making graphs in python. Learn more about the library at this webpage: https://matplotlib.org/."
      ],
      "metadata": {
        "id": "GnnwuQsIsTJH"
      }
    },
    {
      "cell_type": "code",
      "source": [
        "import pandas as pd\n",
        "import numpy as np\n",
        "\n",
        "df = pd.read_csv(\"heart.csv\")\n",
        "\n",
        "# get dataframe for rows with age less than 40\n",
        "df = df[df['Age'] < 40]\n",
        "\n",
        "# print out the mean\n",
        "df.iloc[:,11:12].apply(np.mean)"
      ],
      "metadata": {
        "colab": {
          "base_uri": "https://localhost:8080/"
        },
        "id": "35F_hhuMxfZf",
        "outputId": "0f7c6f07-eae7-4f9b-a80a-4fe7dbe015a8"
      },
      "execution_count": 54,
      "outputs": [
        {
          "output_type": "execute_result",
          "data": {
            "text/plain": [
              "HeartDisease    0.325\n",
              "dtype: float64"
            ]
          },
          "metadata": {},
          "execution_count": 54
        }
      ]
    },
    {
      "cell_type": "code",
      "source": [
        "import pandas as pd\n",
        "import numpy as np\n",
        "\n",
        "df = pd.read_csv(\"heart.csv\")\n",
        "\n",
        "# get dataframe for rows with age 40-49\n",
        "df = df[df['Age'] >= 40]\n",
        "df = df[df['Age'] < 50]\n",
        "\n",
        "# print out the mean\n",
        "df.iloc[:,11:12].apply(np.mean)"
      ],
      "metadata": {
        "colab": {
          "base_uri": "https://localhost:8080/"
        },
        "id": "THNrzxWDxzeo",
        "outputId": "ab5e61e7-d820-49c9-8b5b-a79862af0f80"
      },
      "execution_count": 57,
      "outputs": [
        {
          "output_type": "execute_result",
          "data": {
            "text/plain": [
              "HeartDisease    0.402844\n",
              "dtype: float64"
            ]
          },
          "metadata": {},
          "execution_count": 57
        }
      ]
    },
    {
      "cell_type": "code",
      "source": [
        "import pandas as pd\n",
        "import numpy as np\n",
        "\n",
        "df = pd.read_csv(\"heart.csv\")\n",
        "\n",
        "# get dataframe for rows with age 50-59\n",
        "df = df[df['Age'] >= 50]\n",
        "df = df[df['Age'] < 60]\n",
        "\n",
        "# print out the mean\n",
        "df.iloc[:,11:12].apply(np.mean)"
      ],
      "metadata": {
        "colab": {
          "base_uri": "https://localhost:8080/"
        },
        "id": "8cQm739Ax9U9",
        "outputId": "083cdff5-bb3d-49b0-c7fb-e0b285cd703d"
      },
      "execution_count": 58,
      "outputs": [
        {
          "output_type": "execute_result",
          "data": {
            "text/plain": [
              "HeartDisease    0.566845\n",
              "dtype: float64"
            ]
          },
          "metadata": {},
          "execution_count": 58
        }
      ]
    },
    {
      "cell_type": "code",
      "source": [
        "import pandas as pd\n",
        "import numpy as np\n",
        "\n",
        "df = pd.read_csv(\"heart.csv\")\n",
        "\n",
        "# get dataframe for rows with age 60+\n",
        "df = df[df['Age'] > 60]\n",
        "\n",
        "# print out the mean\n",
        "df.iloc[:,11:12].apply(np.mean)"
      ],
      "metadata": {
        "colab": {
          "base_uri": "https://localhost:8080/"
        },
        "id": "jiWbJvybyKsW",
        "outputId": "c6c4d703-431b-4fd3-a20a-31da4468630e"
      },
      "execution_count": 107,
      "outputs": [
        {
          "output_type": "execute_result",
          "data": {
            "text/plain": [
              "HeartDisease    0.728507\n",
              "dtype: float64"
            ]
          },
          "metadata": {},
          "execution_count": 107
        }
      ]
    },
    {
      "cell_type": "code",
      "source": [
        "import pandas as pd\n",
        "import numpy as np\n",
        "import matplotlib.pyplot as plt\n",
        "\n",
        "df = pd.read_csv(\"heart.csv\")\n",
        "\n",
        "#get the age groups\n",
        "ageGroup = [\"< 40\", \"40 - 50\", \"50 - 59\", \"60+\"]\n",
        "\n",
        "# get the rates for each age\n",
        "diseaseRate = [.325, .402844, 0.566845, 0.728507]\n",
        "\n",
        "# create bar chart\n",
        "plt.bar(ageGroup, diseaseRate)\n",
        "\n",
        "#create labels for chart\n",
        "plt.xlabel(\"age group\")\n",
        "plt.ylabel(\"Heart Disease Prevalence\")\n",
        "plt.title(\"Heart Disease Prevalence by Age Group\")"
      ],
      "metadata": {
        "colab": {
          "base_uri": "https://localhost:8080/",
          "height": 313
        },
        "id": "aXp5zOtFwBSs",
        "outputId": "e1af1e49-4238-4b82-fef6-854c73e2f323"
      },
      "execution_count": 109,
      "outputs": [
        {
          "output_type": "execute_result",
          "data": {
            "text/plain": [
              "Text(0.5, 1.0, 'Heart Disease Prevalence by Age Group')"
            ]
          },
          "metadata": {},
          "execution_count": 109
        },
        {
          "output_type": "display_data",
          "data": {
            "image/png": "[encoded data removed]",
            "text/plain": [
              "<Figure size 432x288 with 1 Axes>"
            ]
          },
          "metadata": {
            "needs_background": "light"
          }
        }
      ]
    },
    {
      "cell_type": "markdown",
      "source": [
        "**Summary: Age vs Heart Disease**"
      ],
      "metadata": {
        "id": "5IhDDXjQzmbm"
      }
    },
    {
      "cell_type": "markdown",
      "source": [
        "We can see a clear increase in heart disease as you get older. We can see that while under 40 the prevalence was 32.5%, but rose up to a staggering 72.8% at the 60+ range. This shows us that heart disease becomes a more likely issue for individuals as they get older."
      ],
      "metadata": {
        "id": "KKjDsQ2Bzq7k"
      }
    },
    {
      "cell_type": "markdown",
      "source": [
        "**Cholesterol vs Heart Disease**"
      ],
      "metadata": {
        "id": "sto2MT8L0tE2"
      }
    },
    {
      "cell_type": "markdown",
      "source": [
        "Many researchers believe that high cholesterol levels are associated with artery blockages and that leads to heart disease. We will test how true this may be. An important consideration is that we are only looking at serum cholesterol, which is a fancy term for total cholesterol. There are various types of cholesterol in the body. Not all cholesterol types are considered bad. A good example is high-density lipoprotein. "
      ],
      "metadata": {
        "id": "-HikoONA08vz"
      }
    },
    {
      "cell_type": "markdown",
      "source": [
        "We can see that the average age of people with heart disease is 251.1 and the average person without heart disease is 238.8. This data aligns with the idea that higher cholesterol levels are associated with higher heart disease prevalence."
      ],
      "metadata": {
        "id": "TLKNhbcx1791"
      }
    },
    {
      "cell_type": "code",
      "source": [
        "import pandas as pd\n",
        "import numpy as np\n",
        "\n",
        "df = pd.read_csv(\"heart.csv\")\n",
        "\n",
        "#remove rows with missing cholesterol\n",
        "df= df[df['Cholesterol'] != 0]\n",
        "\n",
        "#only rows where person does have heart disease\n",
        "df = df[df['HeartDisease'] == 1]\n",
        "\n",
        "df.iloc[:,4:5].apply(np.mean)"
      ],
      "metadata": {
        "colab": {
          "base_uri": "https://localhost:8080/"
        },
        "id": "ERc-hu5RjLfC",
        "outputId": "67f822b3-e324-4005-ad1b-de955d4cc356"
      },
      "execution_count": 72,
      "outputs": [
        {
          "output_type": "execute_result",
          "data": {
            "text/plain": [
              "Cholesterol    251.061798\n",
              "dtype: float64"
            ]
          },
          "metadata": {},
          "execution_count": 72
        }
      ]
    },
    {
      "cell_type": "code",
      "source": [
        "import pandas as pd\n",
        "import numpy as np\n",
        "\n",
        "df = pd.read_csv(\"heart.csv\")\n",
        "\n",
        "#remove rows with missing cholesterol\n",
        "df= df[df['Cholesterol'] != 0]\n",
        "\n",
        "#only rows where person does not have heart disease\n",
        "df = df[df['HeartDisease'] == 0]\n",
        "\n",
        "df.iloc[:,4:5].apply(np.mean)"
      ],
      "metadata": {
        "colab": {
          "base_uri": "https://localhost:8080/"
        },
        "id": "f_sT4QL33VC1",
        "outputId": "866debc7-cbb1-4304-bb32-879c818bae42"
      },
      "execution_count": 75,
      "outputs": [
        {
          "output_type": "execute_result",
          "data": {
            "text/plain": [
              "Cholesterol    238.769231\n",
              "dtype: float64"
            ]
          },
          "metadata": {},
          "execution_count": 75
        }
      ]
    },
    {
      "cell_type": "markdown",
      "source": [
        "Now, lets look at the prevalence of heart disease throughout cholesterol levels. Let's break down our cholesterol levels into seven groups: 175 or under, 176-200, 201-225, 226-250, 251-275,276-300, and over 300. We will get the summary statistics and then place them into a bar chart. "
      ],
      "metadata": {
        "id": "qWer3WYr33N9"
      }
    },
    {
      "cell_type": "code",
      "source": [
        "import pandas as pd\n",
        "import numpy as np\n",
        "\n",
        "df = pd.read_csv(\"heart.csv\")\n",
        "\n",
        "#only rows where cholesterol levels not missing\n",
        "df = df[df['Cholesterol'] != 0]\n",
        "\n",
        "# get rows with proper cholesterol levels\n",
        "df = df[df['Cholesterol'] < 176]\n",
        "\n",
        "df.iloc[:,11:12].apply(np.mean)"
      ],
      "metadata": {
        "colab": {
          "base_uri": "https://localhost:8080/"
        },
        "id": "EEHBNiGgjhYJ",
        "outputId": "9852c873-2876-4831-9dd9-93dd24a8fc49"
      },
      "execution_count": 76,
      "outputs": [
        {
          "output_type": "execute_result",
          "data": {
            "text/plain": [
              "HeartDisease    0.460317\n",
              "dtype: float64"
            ]
          },
          "metadata": {},
          "execution_count": 76
        }
      ]
    },
    {
      "cell_type": "code",
      "source": [
        "import pandas as pd\n",
        "import numpy as np\n",
        "\n",
        "df = pd.read_csv(\"heart.csv\")\n",
        "\n",
        "#only rows where cholesterol levels not missing\n",
        "df = df[df['Cholesterol'] != 0]\n",
        "\n",
        "# get rows with proper cholesterol levels\n",
        "df = df[df['Cholesterol'] >= 176]\n",
        "df = df[df['Cholesterol'] < 201]\n",
        "\n",
        "df.iloc[:,11:12].apply(np.mean)"
      ],
      "metadata": {
        "colab": {
          "base_uri": "https://localhost:8080/"
        },
        "id": "cQgjg5qy5L7t",
        "outputId": "4ec789c9-2c0a-4582-de91-3e4ef3db24fa"
      },
      "execution_count": 77,
      "outputs": [
        {
          "output_type": "execute_result",
          "data": {
            "text/plain": [
              "HeartDisease    0.344828\n",
              "dtype: float64"
            ]
          },
          "metadata": {},
          "execution_count": 77
        }
      ]
    },
    {
      "cell_type": "code",
      "source": [
        "import pandas as pd\n",
        "import numpy as np\n",
        "\n",
        "df = pd.read_csv(\"heart.csv\")\n",
        "\n",
        "#only rows where cholesterol levels not missing\n",
        "df = df[df['Cholesterol'] != 0]\n",
        "\n",
        "# get rows with proper cholesterol levels\n",
        "df = df[df['Cholesterol'] >= 201]\n",
        "df = df[df['Cholesterol'] < 226]\n",
        "\n",
        "df.iloc[:,11:12].apply(np.mean)"
      ],
      "metadata": {
        "colab": {
          "base_uri": "https://localhost:8080/"
        },
        "id": "OsGGEB6s5b-0",
        "outputId": "3f21667b-409b-46e4-abb1-1562a5ffcf2e"
      },
      "execution_count": 78,
      "outputs": [
        {
          "output_type": "execute_result",
          "data": {
            "text/plain": [
              "HeartDisease    0.440789\n",
              "dtype: float64"
            ]
          },
          "metadata": {},
          "execution_count": 78
        }
      ]
    },
    {
      "cell_type": "code",
      "source": [
        "import pandas as pd\n",
        "import numpy as np\n",
        "\n",
        "df = pd.read_csv(\"heart.csv\")\n",
        "\n",
        "#only rows where cholesterol levels not missing\n",
        "df = df[df['Cholesterol'] != 0]\n",
        "\n",
        "# get rows with proper cholesterol levels\n",
        "df = df[df['Cholesterol'] >= 226]\n",
        "df = df[df['Cholesterol'] < 251]\n",
        "\n",
        "df.iloc[:,11:12].apply(np.mean)"
      ],
      "metadata": {
        "colab": {
          "base_uri": "https://localhost:8080/"
        },
        "id": "_JhnSzad5gmL",
        "outputId": "cf10d4a0-7045-4507-dd8b-24cd28ec3ad7"
      },
      "execution_count": 79,
      "outputs": [
        {
          "output_type": "execute_result",
          "data": {
            "text/plain": [
              "HeartDisease    0.44697\n",
              "dtype: float64"
            ]
          },
          "metadata": {},
          "execution_count": 79
        }
      ]
    },
    {
      "cell_type": "code",
      "source": [
        "import pandas as pd\n",
        "import numpy as np\n",
        "\n",
        "df = pd.read_csv(\"heart.csv\")\n",
        "\n",
        "#only rows where cholesterol levels not missing\n",
        "df = df[df['Cholesterol'] != 0]\n",
        "\n",
        "# get rows with proper cholesterol levels\n",
        "df = df[df['Cholesterol'] >= 251]\n",
        "df = df[df['Cholesterol'] < 276]\n",
        "\n",
        "df.iloc[:,11:12].apply(np.mean)"
      ],
      "metadata": {
        "colab": {
          "base_uri": "https://localhost:8080/"
        },
        "id": "y816Gvvg5sO9",
        "outputId": "df381e64-beba-4ac5-e9fd-1b524810350c"
      },
      "execution_count": 80,
      "outputs": [
        {
          "output_type": "execute_result",
          "data": {
            "text/plain": [
              "HeartDisease    0.508333\n",
              "dtype: float64"
            ]
          },
          "metadata": {},
          "execution_count": 80
        }
      ]
    },
    {
      "cell_type": "code",
      "source": [
        "import pandas as pd\n",
        "import numpy as np\n",
        "\n",
        "df = pd.read_csv(\"heart.csv\")\n",
        "\n",
        "#only rows where cholesterol levels not missing\n",
        "df = df[df['Cholesterol'] != 0]\n",
        "\n",
        "# get rows with proper cholesterol levels\n",
        "df = df[df['Cholesterol'] >= 276]\n",
        "df = df[df['Cholesterol'] < 301]\n",
        "\n",
        "df.iloc[:,11:12].apply(np.mean)"
      ],
      "metadata": {
        "colab": {
          "base_uri": "https://localhost:8080/"
        },
        "id": "F5a-Gfxm5wtD",
        "outputId": "03291e83-d59a-4693-be9d-71f9db5f55fe"
      },
      "execution_count": 81,
      "outputs": [
        {
          "output_type": "execute_result",
          "data": {
            "text/plain": [
              "HeartDisease    0.6125\n",
              "dtype: float64"
            ]
          },
          "metadata": {},
          "execution_count": 81
        }
      ]
    },
    {
      "cell_type": "code",
      "source": [
        "import pandas as pd\n",
        "import numpy as np\n",
        "\n",
        "df = pd.read_csv(\"heart.csv\")\n",
        "\n",
        "#only rows where cholesterol levels not missing\n",
        "df = df[df['Cholesterol'] != 0]\n",
        "\n",
        "# get rows with proper cholesterol levels\n",
        "df = df[df['Cholesterol'] > 300]\n",
        "\n",
        "df.iloc[:,11:12].apply(np.mean)"
      ],
      "metadata": {
        "colab": {
          "base_uri": "https://localhost:8080/"
        },
        "id": "lmoUIm4F5zz0",
        "outputId": "4b0894cf-f61f-449a-b30c-a4b60ee78329"
      },
      "execution_count": 82,
      "outputs": [
        {
          "output_type": "execute_result",
          "data": {
            "text/plain": [
              "HeartDisease    0.533981\n",
              "dtype: float64"
            ]
          },
          "metadata": {},
          "execution_count": 82
        }
      ]
    },
    {
      "cell_type": "code",
      "source": [
        "import pandas as pd\n",
        "import numpy as np\n",
        "import matplotlib.pyplot as plt\n",
        "\n",
        "df = pd.read_csv(\"heart.csv\")\n",
        "\n",
        "# get the cholesterol levels\n",
        "cholesterolLevels = ([\"<= 175\", \"176-200\", \"201-225\",\n",
        "                      \"226-250\", \"251-275\", \"276-300\",\n",
        "                      \">300\"])\n",
        "\n",
        "# get the disease rates\n",
        "diseaseRate = ([0.460317, 0.344828, 0.440789\n",
        "                , 0.44697, 0.508333, 0.6125, 0.533981])\n",
        "\n",
        "\n",
        "# make a bar chart of results\n",
        "plt.bar(cholesterolLevels, diseaseRate)\n",
        "\n",
        "#make proper labels\n",
        "plt.xlabel(\"cholesterol levels\")\n",
        "plt.ylabel(\"Heart Disease Prevalence\")\n",
        "plt.title(\"Heart Disease Prevalence by cholesterol level\")"
      ],
      "metadata": {
        "colab": {
          "base_uri": "https://localhost:8080/",
          "height": 313
        },
        "id": "O2Kz2n7S6DT7",
        "outputId": "5bd55518-2301-44c3-a771-04b98ccc319f"
      },
      "execution_count": 110,
      "outputs": [
        {
          "output_type": "execute_result",
          "data": {
            "text/plain": [
              "Text(0.5, 1.0, 'Heart Disease Prevalence by cholesterol level')"
            ]
          },
          "metadata": {},
          "execution_count": 110
        },
        {
          "output_type": "display_data",
          "data": {
            "image/png": "[encoded data removed]",
            "text/plain": [
              "<Figure size 432x288 with 1 Axes>"
            ]
          },
          "metadata": {
            "needs_background": "light"
          }
        }
      ]
    },
    {
      "cell_type": "markdown",
      "source": [
        "The chart above seems to show that cholesterol levels under 251 do not seem to have too much of an affect on heart disease. It seems like having levels that are 251 or over have a high association with heart disease. It seems that the trend does not consistently rise from one group to the other. This might indicate that small changes in cholesterol do not have much of an affect on heart disease likelihood."
      ],
      "metadata": {
        "id": "VxDo8WI88t2W"
      }
    },
    {
      "cell_type": "markdown",
      "source": [
        "**Max Heart Rate Vs. Heart Disease**"
      ],
      "metadata": {
        "id": "1NOwanbZ-d_T"
      }
    },
    {
      "cell_type": "markdown",
      "source": [
        "We can see that people with heart disease averaged a maximum heart rate of 127.7 and people without heart disease averaged 148. It seems that having a higher maximum heart rate makes the chances of having heart disease lower. "
      ],
      "metadata": {
        "id": "aPRjNkFl_ZD7"
      }
    },
    {
      "cell_type": "code",
      "source": [
        "import pandas as pd\n",
        "import numpy as np\n",
        "\n",
        "df = pd.read_csv(\"heart.csv\")\n",
        "\n",
        "# rows with  heart disease\n",
        "df = df[df['HeartDisease'] == 1]\n",
        "\n",
        "# print mean max heart rate\n",
        "df.iloc[:,7:8].apply(np.mean)"
      ],
      "metadata": {
        "colab": {
          "base_uri": "https://localhost:8080/"
        },
        "id": "v6TnhhEHj1-5",
        "outputId": "25547d9c-c0b5-4588-acb5-78383ff26e53"
      },
      "execution_count": 111,
      "outputs": [
        {
          "output_type": "execute_result",
          "data": {
            "text/plain": [
              "MaxHR    127.655512\n",
              "dtype: float64"
            ]
          },
          "metadata": {},
          "execution_count": 111
        }
      ]
    },
    {
      "cell_type": "code",
      "source": [
        "import pandas as pd\n",
        "import numpy as np\n",
        "\n",
        "df = pd.read_csv(\"heart.csv\")\n",
        "\n",
        "# rows with no heart disease\n",
        "df = df[df['HeartDisease'] == 0]\n",
        "\n",
        "# print mean max heart rate\n",
        "df.iloc[:,7:8].apply(np.mean)"
      ],
      "metadata": {
        "colab": {
          "base_uri": "https://localhost:8080/"
        },
        "id": "mVldDFBu-smK",
        "outputId": "a90404e3-a36f-4b49-c0f7-626460dc3923"
      },
      "execution_count": 112,
      "outputs": [
        {
          "output_type": "execute_result",
          "data": {
            "text/plain": [
              "MaxHR    148.15122\n",
              "dtype: float64"
            ]
          },
          "metadata": {},
          "execution_count": 112
        }
      ]
    },
    {
      "cell_type": "markdown",
      "source": [
        "**Blood Pressure Vs. Heart Disease**"
      ],
      "metadata": {
        "id": "o98LC4oD_yxr"
      }
    },
    {
      "cell_type": "markdown",
      "source": [
        "It appears that individuals with heart disease had a resting blood pressure of 134.45 and individuals without heart disease had a resting blood pressure of 130.18. It appears that people without heart disease had lower blood pressure. "
      ],
      "metadata": {
        "id": "n7SMLhWoAGfi"
      }
    },
    {
      "cell_type": "code",
      "source": [
        "import pandas as pd\n",
        "import numpy as np\n",
        "\n",
        "df = pd.read_csv(\"heart.csv\")\n",
        "\n",
        "#remove missing data \n",
        "df = df[df['RestingBP'] != 0]\n",
        "\n",
        "df = df[df['HeartDisease'] == 1]\n",
        "\n",
        "# print blood pressure\n",
        "df.iloc[:,3:4].apply(np.mean)"
      ],
      "metadata": {
        "colab": {
          "base_uri": "https://localhost:8080/"
        },
        "id": "kg8d-jGZ_4Bj",
        "outputId": "9a23b610-9835-453f-c4e5-95bf51587d3c"
      },
      "execution_count": 93,
      "outputs": [
        {
          "output_type": "execute_result",
          "data": {
            "text/plain": [
              "RestingBP    134.449704\n",
              "dtype: float64"
            ]
          },
          "metadata": {},
          "execution_count": 93
        }
      ]
    },
    {
      "cell_type": "code",
      "source": [
        "import pandas as pd\n",
        "import numpy as np\n",
        "\n",
        "df = pd.read_csv(\"heart.csv\")\n",
        "\n",
        "#remove missing data\n",
        "df = df[df['RestingBP'] != 0]\n",
        "\n",
        "df = df[df['HeartDisease'] == 0]\n",
        "\n",
        "#print out blood pressure\n",
        "df.iloc[:,3:4].apply(np.mean)"
      ],
      "metadata": {
        "colab": {
          "base_uri": "https://localhost:8080/"
        },
        "id": "PC-MveLDACqr",
        "outputId": "8da56564-fcb5-4bb2-e2a9-830b1f50a46f"
      },
      "execution_count": 94,
      "outputs": [
        {
          "output_type": "execute_result",
          "data": {
            "text/plain": [
              "RestingBP    130.180488\n",
              "dtype: float64"
            ]
          },
          "metadata": {},
          "execution_count": 94
        }
      ]
    },
    {
      "cell_type": "markdown",
      "source": [
        "**Cholesterol Vs. Blood Pressure**"
      ],
      "metadata": {
        "id": "a6SlAuRSBBYh"
      }
    },
    {
      "cell_type": "markdown",
      "source": [
        "Cholesterol and Blood pressure are both known to be possible causes of heart disease. It can be hypothesized that cholesterol can clog that arteries which could lead to raised blood pressure levels. Let's see if this hypothesis is true."
      ],
      "metadata": {
        "id": "1-BmalL3Ajkr"
      }
    },
    {
      "cell_type": "code",
      "source": [
        "import seaborn as sns\n",
        "import matplotlib.pyplot as plt\n",
        "import pandas as pd\n",
        "\n",
        "#read in data \n",
        "df = pd.read_csv(\"heart.csv\")\n",
        "\n",
        "#remove missing data\n",
        "df = df[df['RestingBP'] != 0]\n",
        "df = df[df['Cholesterol'] != 0]\n",
        "\n",
        "#make scatter plot\n",
        "sns.scatterplot(data=df,x='Cholesterol',y='RestingBP')\n",
        "\n",
        "#make linear regression line\n",
        "sns.regplot(x = 'Cholesterol', y = 'RestingBP', data = df)"
      ],
      "metadata": {
        "id": "SOIcYOeCIkEY",
        "outputId": "170d79ce-3d62-4d16-8b2d-d4041fac5c3a",
        "colab": {
          "base_uri": "https://localhost:8080/",
          "height": 297
        }
      },
      "execution_count": 113,
      "outputs": [
        {
          "output_type": "execute_result",
          "data": {
            "text/plain": [
              "<matplotlib.axes._subplots.AxesSubplot at 0x7fef25fb8a10>"
            ]
          },
          "metadata": {},
          "execution_count": 113
        },
        {
          "output_type": "display_data",
          "data": {
            "image/png": "[encoded data removed]",
            "text/plain": [
              "<Figure size 432x288 with 1 Axes>"
            ]
          },
          "metadata": {
            "needs_background": "light"
          }
        }
      ]
    },
    {
      "cell_type": "markdown",
      "source": [
        "We can see a slight increase in blood pressure as cholesterol levels rise. This probably means higher cholesterol levels can lead to a slight increase in blood pressure levels."
      ],
      "metadata": {
        "id": "3iNq2a4vOmp2"
      }
    },
    {
      "cell_type": "markdown",
      "source": [
        "**Machine Learning: Decision Tree**"
      ],
      "metadata": {
        "id": "oy_xn4IqKSth"
      }
    },
    {
      "cell_type": "markdown",
      "source": [
        "A decision tree is a machine learning technique. It is structured like the typical tree data structure. The idea is that the machine takes in our data and uses algorithms and math to try and create a decision tree that can make a predictive decision. The internal nodes are for making decisions and the leaves are predictions. Learn more about decision trees on this webpage: https://en.wikipedia.org/wiki/Decision_tree. "
      ],
      "metadata": {
        "id": "F2KKUj8VNuDw"
      }
    },
    {
      "cell_type": "code",
      "source": [
        "from sklearn.metrics import accuracy_score\n",
        "from sklearn.model_selection import train_test_split\n",
        "from sklearn.tree import DecisionTreeClassifier\n",
        "import pandas as pd\n",
        "from sklearn.preprocessing import LabelEncoder\n",
        "\n",
        "#import data \n",
        "df = pd.read_csv(\"heart.csv\")\n",
        "\n",
        "#make encoders for making labels numeric\n",
        "ChestPainType = LabelEncoder()\n",
        "RestingECG = LabelEncoder()\n",
        "ExcerciseAngina = LabelEncoder()\n",
        "ST_Slope = LabelEncoder()\n",
        "Sex = LabelEncoder()\n",
        "\n",
        "#do proper encodings\n",
        "df['ChestPainType'] = ChestPainType.fit_transform(df['ChestPainType'])\n",
        "df['RestingECG'] = ChestPainType.fit_transform(df['RestingECG'])\n",
        "df['ExerciseAngina'] = ChestPainType.fit_transform(df['ExerciseAngina'])\n",
        "df['ST_Slope'] = ChestPainType.fit_transform(df['ST_Slope'])\n",
        "df['Sex'] = ChestPainType.fit_transform(df['Sex'])\n",
        "\n",
        "#remove missing data\n",
        "df = df[df['Cholesterol'] != 0]\n",
        "df = df[df['RestingBP'] != 0]\n",
        "\n",
        "#set input data\n",
        "data = df.drop('HeartDisease', axis='columns')\n",
        "\n",
        "#set target data (heart disease)\n",
        "target = df['HeartDisease']\n",
        "\n",
        "#split training and test data\n",
        "x_train, x_test, y_train, y_test = train_test_split(data, target, test_size=.3, random_state=0)\n",
        "\n",
        "# create classifier\n",
        "clf = DecisionTreeClassifier(random_state=0)\n",
        "\n",
        "# fit the data \n",
        "clf.fit(x_train, y_train)\n",
        "\n",
        "# check accuracy of model\n",
        "predicted = clf.predict(x_test)\n",
        "print(accuracy_score(y_test, predicted) * 100)\n"
      ],
      "metadata": {
        "colab": {
          "base_uri": "https://localhost:8080/"
        },
        "id": "swWsEiZmKf9G",
        "outputId": "3485a888-c0ec-46e3-9e7c-77fd26f65092"
      },
      "execution_count": 114,
      "outputs": [
        {
          "output_type": "stream",
          "name": "stdout",
          "text": [
            "76.33928571428571\n"
          ]
        }
      ]
    },
    {
      "cell_type": "markdown",
      "source": [
        "Overall, we get a 76.3% accuracy score. This is not bad at all since 3 out of 4 people who use this model would generally get a correct diagnosise. The accuracy likely indicates that the collective group of inputs give a fairly good indicator of whether of not an individual has heart disease. One way that may improve the results is storing seperate types of variables for different types of cholesterol. Our model only considered total cholesterol. Also considering types of cholesterol like LDL and HDL would probably make the model more accurate because it is a common scientific belief that LDL is a cholesterol that is bad for the heart and HDL is a cholesterol that is good for the heart. Looking at even more types of cholesterol than just LDL and HDL could enhance the model even more. We could also look at other factors such as weight and body fat percentage."
      ],
      "metadata": {
        "id": "BlDe6qWqeGw_"
      }
    },
    {
      "cell_type": "markdown",
      "source": [
        "**Machine Learning: Random Forest**"
      ],
      "metadata": {
        "id": "KK8PfMDeOVR-"
      }
    },
    {
      "cell_type": "markdown",
      "source": [
        "Our decision tree algorithm predicted heart disease pretty well. Let's try using a random forest algorithm to see if we can get better accuracy. A random forest machine learning algorithm trains many decision trees. The random forest then uses a voting system that accounts for all of these decision trees and makes one single prediction based on the results of all of the decision trees. A greate resource for learning more about random forests is at this site: https://www.stat.berkeley.edu/~breiman/randomforest2001.pdf."
      ],
      "metadata": {
        "id": "chz1U0q4ioDF"
      }
    },
    {
      "cell_type": "code",
      "source": [
        "from sklearn.ensemble import RandomForestClassifier\n",
        "from sklearn.model_selection import train_test_split\n",
        "from sklearn.metrics import accuracy_score\n",
        "\n",
        "#import data \n",
        "heart_data = pd.read_csv(\"heart.csv\")\n",
        "\n",
        "#make label encoders\n",
        "ChestPainType = LabelEncoder()\n",
        "RestingECG = LabelEncoder()\n",
        "ExcerciseAngina = LabelEncoder()\n",
        "ST_Slope = LabelEncoder()\n",
        "Sex = LabelEncoder()\n",
        "\n",
        "#encode labels as numerics\n",
        "heart_data['ChestPainType'] = ChestPainType.fit_transform(heart_data['ChestPainType'])\n",
        "heart_data['RestingECG'] = ChestPainType.fit_transform(heart_data['RestingECG'])\n",
        "heart_data['ExerciseAngina'] = ChestPainType.fit_transform(heart_data['ExerciseAngina'])\n",
        "heart_data['ST_Slope'] = ChestPainType.fit_transform(heart_data['ST_Slope'])\n",
        "heart_data['Sex'] = ChestPainType.fit_transform(heart_data['Sex'])\n",
        "\n",
        "#remove missing data\n",
        "heart_data = heart_data[heart_data['Cholesterol'] != 0]\n",
        "heart_data = heart_data[heart_data['RestingBP'] != 0]\n",
        "\n",
        "# set input data\n",
        "data = heart_data.drop('HeartDisease', axis='columns')\n",
        "\n",
        "#set target data (heart disease)\n",
        "target = heart_data['HeartDisease']\n",
        "\n",
        "\n",
        "# split between test data and training data \n",
        "x_train, x_test, y_train, y_test = train_test_split(data, target, test_size=.3, random_state=0)\n",
        "\n",
        "# assign classifier\n",
        "randomforest = RandomForestClassifier()\n",
        "\n",
        "# fit the data\n",
        "randomforest.fit(x_train, y_train)\n",
        "\n",
        "# check accuracy of model\n",
        "predicted = randomforest.predict(x_test)\n",
        "print(accuracy_score(y_test, predicted) * 100)"
      ],
      "metadata": {
        "colab": {
          "base_uri": "https://localhost:8080/"
        },
        "id": "rTvqb7sXgC0m",
        "outputId": "32ebf27e-c4a3-47ad-ca6f-7fc29d57978e"
      },
      "execution_count": 89,
      "outputs": [
        {
          "output_type": "stream",
          "name": "stdout",
          "text": [
            "86.16071428571429\n"
          ]
        }
      ]
    },
    {
      "cell_type": "markdown",
      "source": [
        "We can see that we got an accuracy score of 86.16%. This means roughly 86 out of 100 people would get a correct diagnosise from the model. This means that the random forest appears to be a better model for predicting heart disease with the given data than the decision tree machine learning algorithm. This means that the algorithm can get a reaonably high gauge from the input data on wheathe that indiviual has heart diesase. I think adding more factors like quantity of various types of cholesterol, weight, and body fat percentage could enhance the model's accuracy even more. "
      ],
      "metadata": {
        "id": "mpfjFFtGg_zW"
      }
    },
    {
      "cell_type": "markdown",
      "source": [
        "**Machine Learning Reflection**"
      ],
      "metadata": {
        "id": "urBYsQK_g8Kn"
      }
    },
    {
      "cell_type": "markdown",
      "source": [
        "Overall, we can see that the decision tree algorithm had an accuracy of 76.3% and the random forest algorithm had an accuracy of 86.2%. It appears that the random forest was better at predicting heart disease. This model probably needs more variables to consider in order to be optimal. Adding data points such as quantity of various cholesterol types in the blood stream, weight, and body fat percentage are variables that would likely make it easier to predict heart disease in an individual."
      ],
      "metadata": {
        "id": "fwxKGi0UhAml"
      }
    },
    {
      "cell_type": "markdown",
      "source": [
        "**Conclusion**"
      ],
      "metadata": {
        "id": "_kgQIT42CyZD"
      }
    },
    {
      "cell_type": "markdown",
      "source": [
        "In conclusion, it seems that heart disease becomes much more prevelant as people age. It appears that cholesterol levels over about 251 in serum cholesterol by mm/dl can significantly increase the chances of heart disease. It also appears that higher blood pressure and lower maximum heart rate are linked to heart disease. We also discovered that a random forest algorithm is 86% accurate at determining if an individual has heart disease. This means that the variables in the data set have links to heart disease that a machine learning algorithm is able to see. I think adding more variables like quantity of various types of cholesterol, weight, and body fat percentage could enhance the random forest model's accuracy and could help bring even more heart disease links to light. "
      ],
      "metadata": {
        "id": "QqiOC_tOC1Hx"
      }
    }
  ]
}